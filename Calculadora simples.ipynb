{
 "cells": [
  {
   "cell_type": "code",
   "execution_count": 13,
   "id": "ffa677de",
   "metadata": {},
   "outputs": [
    {
     "name": "stdout",
     "output_type": "stream",
     "text": [
      "Digite o primeiro número: 2\n",
      "Digite uma operação: Soma: +, Subtração: -, Multiplicação: x, Divisão: //\n",
      "Digite o segundo número: 4\n",
      "2.0 ÷ 4.0 = 0.5\n"
     ]
    }
   ],
   "source": [
    "# segunda calculadora: \n",
    "\n",
    "num1 = float(input(\"Digite o primeiro número: \"))\n",
    "oper = str(input('Digite uma operação: Soma: +, Subtração: -, Multiplicação: x, Divisão: /'))\n",
    "num2 = float(input(\"Digite o segundo número: \"))\n",
    "\n",
    "if oper == '+':\n",
    "    res = num1 + num2\n",
    "    print('{} + {} = {}'.format(num1, num2, res))\n",
    "    \n",
    "if oper == '-':\n",
    "    res = num1 - num2\n",
    "    print('{} - {} = {}'.format(num1, num2, res))\n",
    "    \n",
    "if oper == 'x':\n",
    "    res = num1 * num2\n",
    "    print('{} x {} = {}'.format(num1, num2, res))\n",
    "    \n",
    "if oper == '/':\n",
    "    res = num1 / num2\n",
    "    print('{} ÷ {} = {}'.format(num1, num2, res))"
   ]
  },
  {
   "cell_type": "code",
   "execution_count": null,
   "id": "7d8d13dc",
   "metadata": {},
   "outputs": [],
   "source": []
  }
 ],
 "metadata": {
  "kernelspec": {
   "display_name": "Python 3",
   "language": "python",
   "name": "python3"
  },
  "language_info": {
   "codemirror_mode": {
    "name": "ipython",
    "version": 3
   },
   "file_extension": ".py",
   "mimetype": "text/x-python",
   "name": "python",
   "nbconvert_exporter": "python",
   "pygments_lexer": "ipython3",
   "version": "3.8.8"
  }
 },
 "nbformat": 4,
 "nbformat_minor": 5
}
